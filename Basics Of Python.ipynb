{
 "cells": [
  {
   "cell_type": "markdown",
   "id": "8e56587a-50f6-409b-80d3-fe708b3dd36c",
   "metadata": {},
   "source": [
    "Exercise 1: Prime Numbers\n",
    "Write a Python program that checks whether a given number is prime or not. A prime number is a natural number greater than 1 that has no positive divisors other than 1 and itself."
   ]
  },
  {
   "cell_type": "code",
   "execution_count": 3,
   "id": "5f9b3b7b-1532-408d-8a38-cb979665f997",
   "metadata": {},
   "outputs": [
    {
     "name": "stdin",
     "output_type": "stream",
     "text": [
      "Enter a number to check if it's prime:  7\n"
     ]
    },
    {
     "name": "stdout",
     "output_type": "stream",
     "text": [
      "7 is a prime number\n"
     ]
    }
   ],
   "source": [
    "def is_prime(n):\n",
    "    if n <= 1: # 1is not prime\n",
    "        return False\n",
    "    elif n <= 3:\n",
    "        return True\n",
    "    elif n % 2 == 0 or n % 3 == 0:\n",
    "        return False\n",
    "    i = 5\n",
    "    while i * i <= n:\n",
    "        if n % i == 0 or n % (i + 2) == 0:\n",
    "            return False\n",
    "        i += 6\n",
    "    return True\n",
    "\n",
    "# Test the function\n",
    "num = int(input(\"Enter a number to check if it's prime: \"))\n",
    "if is_prime(num):\n",
    "    print(num, \"is a prime number\")\n",
    "else:\n",
    "    print(num, \"is not a prime number\")\n"
   ]
  },
  {
   "cell_type": "markdown",
   "id": "59ca84a5-c316-42de-9af7-b09c3203e068",
   "metadata": {},
   "source": [
    "#### Q2) Develop a Python program that generates two random numbers and asks the user to enter the product of these numbers. The program should then check if the user's answer is correct and display an appropriate message"
   ]
  },
  {
   "cell_type": "code",
   "execution_count": 1,
   "id": "6fa59e5d-e465-4133-944a-158f3084a496",
   "metadata": {},
   "outputs": [
    {
     "name": "stdin",
     "output_type": "stream",
     "text": [
      "What is the product of 9 and 10?  90\n"
     ]
    },
    {
     "name": "stdout",
     "output_type": "stream",
     "text": [
      "Correct! Well done.\n"
     ]
    }
   ],
   "source": [
    "import random\n",
    "\n",
    "def generate_random_numbers():\n",
    "    num1 = random.randint(1, 10)\n",
    "    num2 = random.randint(1, 10)\n",
    "    return num1, num2\n",
    "\n",
    "def main():\n",
    "    num1, num2 = generate_random_numbers()\n",
    "    product = num1 * num2\n",
    "    user_answer = int(input(f\"What is the product of {num1} and {num2}? \"))\n",
    "    \n",
    "    if user_answer == product:\n",
    "        print(\"Correct! Well done.\")\n",
    "    else:\n",
    "        print(\"Incorrect. The correct answer is:\", product)\n",
    "\n",
    "if __name__ == \"__main__\":\n",
    "    main()\n"
   ]
  },
  {
   "cell_type": "markdown",
   "id": "d7856548-b85c-4d57-8d21-8142b9b266a9",
   "metadata": {},
   "source": [
    "#### Create a Python script that prints the squares of all even or odd numbers within the range of 100 to 200. Choose either even or odd numbers and document your choice in the code."
   ]
  },
  {
   "cell_type": "code",
   "execution_count": 2,
   "id": "cfac8704-8bb2-45ab-b838-c64053ded692",
   "metadata": {},
   "outputs": [
    {
     "name": "stdout",
     "output_type": "stream",
     "text": [
      "Squares of even numbers within the range 100 to 200:\n",
      "100 : 10000\n",
      "102 : 10404\n",
      "104 : 10816\n",
      "106 : 11236\n",
      "108 : 11664\n",
      "110 : 12100\n",
      "112 : 12544\n",
      "114 : 12996\n",
      "116 : 13456\n",
      "118 : 13924\n",
      "120 : 14400\n",
      "122 : 14884\n",
      "124 : 15376\n",
      "126 : 15876\n",
      "128 : 16384\n",
      "130 : 16900\n",
      "132 : 17424\n",
      "134 : 17956\n",
      "136 : 18496\n",
      "138 : 19044\n",
      "140 : 19600\n",
      "142 : 20164\n",
      "144 : 20736\n",
      "146 : 21316\n",
      "148 : 21904\n",
      "150 : 22500\n",
      "152 : 23104\n",
      "154 : 23716\n",
      "156 : 24336\n",
      "158 : 24964\n",
      "160 : 25600\n",
      "162 : 26244\n",
      "164 : 26896\n",
      "166 : 27556\n",
      "168 : 28224\n",
      "170 : 28900\n",
      "172 : 29584\n",
      "174 : 30276\n",
      "176 : 30976\n",
      "178 : 31684\n",
      "180 : 32400\n",
      "182 : 33124\n",
      "184 : 33856\n",
      "186 : 34596\n",
      "188 : 35344\n",
      "190 : 36100\n",
      "192 : 36864\n",
      "194 : 37636\n",
      "196 : 38416\n",
      "198 : 39204\n",
      "200 : 40000\n"
     ]
    }
   ],
   "source": [
    "# Choice: Even numbers\n",
    "\n",
    "def print_even_squares():\n",
    "    print(\"Squares of even numbers within the range 100 to 200:\")\n",
    "    for num in range(100, 201):\n",
    "        if num % 2 == 0:\n",
    "            print(num, \":\", num ** 2)\n",
    "\n",
    "print_even_squares()\n"
   ]
  },
  {
   "cell_type": "markdown",
   "id": "9585695c-1234-420d-90cd-062c98d99136",
   "metadata": {},
   "source": [
    "#### Write a Python function called is_palindrome that takes a string as input and returns True if the string is a palindrome, and False otherwise. A palindrome is a word, phrase, number, or other sequence of characters that reads the same forward and backward, ignoring spaces, punctuation, and capitalization."
   ]
  },
  {
   "cell_type": "code",
   "execution_count": 1,
   "id": "9bb1bae1-eb2d-432d-952b-1dff8b295945",
   "metadata": {},
   "outputs": [
    {
     "name": "stdin",
     "output_type": "stream",
     "text": [
      "Enter a string to check if it's a palindrome:  racecar\n"
     ]
    },
    {
     "name": "stdout",
     "output_type": "stream",
     "text": [
      "Yes, it's a palindrome.\n"
     ]
    }
   ],
   "source": [
    "def is_palindrome(s):\n",
    "    # Remove spaces, punctuation, and convert to lowercase\n",
    "    s = ''.join(char.lower() for char in s if char.isalnum())\n",
    "    # Check if the string is equal to its reverse\n",
    "    return s == s[::-1]\n",
    "\n",
    "# Test the function\n",
    "test_string = input(\"Enter a string to check if it's a palindrome: \")\n",
    "if is_palindrome(test_string):\n",
    "    print(\"Yes, it's a palindrome.\")\n",
    "else:\n",
    "    print(\"No, it's not a palindrome.\")\n"
   ]
  },
  {
   "cell_type": "markdown",
   "id": "58e053d5-fb07-4b1c-b39d-9ba71ba7d7fc",
   "metadata": {},
   "source": [
    "### write a program to count the number of words in a given text.\n"
   ]
  },
  {
   "cell_type": "markdown",
   "id": "1f8bcdd5-4331-45ce-8e2a-495d780b4d2a",
   "metadata": {},
   "source": [
    "###### example:\n",
    "input_text = \"This is a sample text. This text will be used to demonstrate the word counter.\""
   ]
  },
  {
   "cell_type": "code",
   "execution_count": 6,
   "id": "0898baea-8c34-4345-95c7-7e99c91f011b",
   "metadata": {},
   "outputs": [
    {
     "name": "stdout",
     "output_type": "stream",
     "text": [
      "Number of words in the text: 15\n"
     ]
    }
   ],
   "source": [
    "def count_words(text):\n",
    "    # Split the text into words using whitespace as the delimiter\n",
    "    words = text.split()\n",
    "    # Return the number of words\n",
    "    return len(words)\n",
    "\n",
    "input_text = \"This is a sample text. This text will be used to demonstrate the word counter.\"\n",
    "\n",
    "print(\"Number of words in the text:\", count_words(input_text))\n"
   ]
  },
  {
   "cell_type": "code",
   "execution_count": null,
   "id": "f44cd1b3-a799-48b2-839a-c24cb9738cb4",
   "metadata": {},
   "outputs": [],
   "source": []
  }
 ],
 "metadata": {
  "kernelspec": {
   "display_name": "Python 3 (ipykernel)",
   "language": "python",
   "name": "python3"
  },
  "language_info": {
   "codemirror_mode": {
    "name": "ipython",
    "version": 3
   },
   "file_extension": ".py",
   "mimetype": "text/x-python",
   "name": "python",
   "nbconvert_exporter": "python",
   "pygments_lexer": "ipython3",
   "version": "3.11.5"
  }
 },
 "nbformat": 4,
 "nbformat_minor": 5
}
